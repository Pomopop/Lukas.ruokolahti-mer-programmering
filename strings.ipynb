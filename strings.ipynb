{
 "metadata": {
  "language_info": {
   "codemirror_mode": {
    "name": "ipython",
    "version": 3
   },
   "file_extension": ".py",
   "mimetype": "text/x-python",
   "name": "python",
   "nbconvert_exporter": "python",
   "pygments_lexer": "ipython3",
   "version": "3.8.3-final"
  },
  "orig_nbformat": 2,
  "kernelspec": {
   "name": "python3",
   "display_name": "Python 3"
  }
 },
 "nbformat": 4,
 "nbformat_minor": 2,
 "cells": [
  {
   "source": [
    "Strängar\n"
   ],
   "cell_type": "markdown",
   "metadata": {}
  },
  {
   "cell_type": "code",
   "execution_count": 21,
   "metadata": {},
   "outputs": [
    {
     "output_type": "stream",
     "name": "stdout",
     "text": [
      "5\n"
     ]
    }
   ],
   "source": [
    "#1)\n",
    "namn = str(input(\"Ditt namn\"))\n",
    "\n",
    "print(len(namn))"
   ]
  },
  {
   "cell_type": "code",
   "execution_count": 3,
   "metadata": {},
   "outputs": [
    {
     "output_type": "stream",
     "name": "stdout",
     "text": [
      "13\n"
     ]
    }
   ],
   "source": [
    "#2)\n",
    "m = \"En bild säger tusen ord en matematisk formel säger mer än tusen bilder\"\n",
    "m = m.split( )\n",
    "\n",
    "print(len(m))"
   ]
  },
  {
   "cell_type": "code",
   "execution_count": 36,
   "metadata": {},
   "outputs": [
    {
     "output_type": "stream",
     "name": "stdout",
     "text": [
      "Det är en palindrom\n"
     ]
    }
   ],
   "source": [
    "#3) \n",
    "ordet = input(\"Ange ett ord\")\n",
    "\n",
    "ordet = ordet.lower()\n",
    "Skiljetecken = [\" \", \",\", \".\", \"/\", \"-\", \" *\", \"!\",\"?\"]\n",
    "for tecken in Skiljetecken:\n",
    "    ordet=ordet.replace(tecken, \"\")\n",
    "\n",
    "if ordet [::-1] == ordet:\n",
    "    print(\"Det är en palindrom\")\n",
    "else:\n",
    "    print(\"inte en palindrom\")\n",
    "\n",
    "\n"
   ]
  },
  {
   "cell_type": "code",
   "execution_count": 43,
   "metadata": {},
   "outputs": [
    {
     "output_type": "stream",
     "name": "stdout",
     "text": [
      "36\n"
     ]
    }
   ],
   "source": [
    "#4)\n",
    "mening = \"Do not worry about your difficulties in mathematics, I can assure you mine are still greater.\"\n",
    "mening = mening.replace(\" \", \"\")\n",
    "mening = mening.lower()\n",
    "\n",
    "vokalantal = 0\n",
    "vokaler = [\"a\", \"o\", \"u\", \"e\", \"y\", \"i\"]\n",
    "for vokal in vokaler:\n",
    "    vokalantal += mening.count(vokal)\n",
    "    \n",
    "\n",
    "print(vokalantal)\n",
    "\n",
    "\n"
   ]
  },
  {
   "cell_type": "code",
   "execution_count": null,
   "metadata": {},
   "outputs": [],
   "source": [
    "#5)\n",
    "\n"
   ]
  }
 ]
}