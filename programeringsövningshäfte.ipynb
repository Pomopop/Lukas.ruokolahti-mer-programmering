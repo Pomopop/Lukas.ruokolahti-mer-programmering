{
 "metadata": {
  "language_info": {
   "codemirror_mode": {
    "name": "ipython",
    "version": 3
   },
   "file_extension": ".py",
   "mimetype": "text/x-python",
   "name": "python",
   "nbconvert_exporter": "python",
   "pygments_lexer": "ipython3",
   "version": "3.8.3-final"
  },
  "orig_nbformat": 2,
  "kernelspec": {
   "name": "python3",
   "display_name": "Python 3",
   "language": "python"
  }
 },
 "nbformat": 4,
 "nbformat_minor": 2,
 "cells": [
  {
   "cell_type": "code",
   "execution_count": 1,
   "metadata": {},
   "outputs": [],
   "source": [
    "#uppgift 1\n",
    "#Denna koden räknar ut hur många år det tar för 8000 fåglar att bli 800 om antal fåglar halveras varje år."
   ]
  },
  {
   "cell_type": "code",
   "execution_count": 5,
   "metadata": {},
   "outputs": [
    {
     "output_type": "execute_result",
     "data": {
      "text/plain": [
       "3.0"
      ]
     },
     "metadata": {},
     "execution_count": 5
    }
   ],
   "source": [
    "#uppgift 3: \n",
    "def f(x,y,z):\n",
    "    return (x+y+z)/3\n",
    "\n",
    "f(1,3,5)\n",
    "\n"
   ]
  },
  {
   "cell_type": "code",
   "execution_count": 9,
   "metadata": {},
   "outputs": [
    {
     "output_type": "execute_result",
     "data": {
      "text/plain": [
       "12.56"
      ]
     },
     "metadata": {},
     "execution_count": 9
    }
   ],
   "source": [
    "#uppgift 4:\n",
    "\n",
    "def f(r):\n",
    "    return(r**2)*3.14\n",
    "f(2)"
   ]
  },
  {
   "cell_type": "code",
   "execution_count": 19,
   "metadata": {},
   "outputs": [
    {
     "output_type": "stream",
     "name": "stdout",
     "text": [
      "4\n"
     ]
    }
   ],
   "source": [
    "#uppgift 5:\n",
    "\n",
    "x = (input(\"Ange en mening\"))\n",
    "\n",
    "x = x.split( )\n",
    "\n",
    "print(len(x))"
   ]
  },
  {
   "cell_type": "code",
   "execution_count": null,
   "metadata": {},
   "outputs": [],
   "source": [
    "#uppgift 6:\n",
    "\n"
   ]
  }
 ]
}