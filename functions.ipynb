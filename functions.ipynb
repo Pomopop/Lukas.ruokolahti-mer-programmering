{
 "metadata": {
  "language_info": {
   "codemirror_mode": {
    "name": "ipython",
    "version": 3
   },
   "file_extension": ".py",
   "mimetype": "text/x-python",
   "name": "python",
   "nbconvert_exporter": "python",
   "pygments_lexer": "ipython3",
   "version": "3.8.3-final"
  },
  "orig_nbformat": 2,
  "kernelspec": {
   "name": "python3",
   "display_name": "Python 3",
   "language": "python"
  }
 },
 "nbformat": 4,
 "nbformat_minor": 2,
 "cells": [
  {
   "cell_type": "code",
   "execution_count": 16,
   "metadata": {},
   "outputs": [
    {
     "output_type": "stream",
     "name": "stdout",
     "text": [
      "9\n9\n"
     ]
    }
   ],
   "source": [
    "def f(x):\n",
    "    return (-x)**2\n",
    "\n",
    "print(f(3))\n",
    "print(f(-3))"
   ]
  },
  {
   "cell_type": "code",
   "execution_count": 17,
   "metadata": {},
   "outputs": [
    {
     "output_type": "stream",
     "name": "stdout",
     "text": [
      "hej\n"
     ]
    }
   ],
   "source": [
    "def sayhello():\n",
    "    print(\"hej\")\n",
    "\n",
    "sayhello()"
   ]
  },
  {
   "cell_type": "code",
   "execution_count": 20,
   "metadata": {},
   "outputs": [
    {
     "output_type": "stream",
     "name": "stdout",
     "text": [
      "te19c är bäst\n"
     ]
    }
   ],
   "source": [
    "def skrivut(text):\n",
    "    print(text)\n",
    "\n",
    "skrivut(\"te19c är bäst\")"
   ]
  },
  {
   "cell_type": "code",
   "execution_count": 21,
   "metadata": {},
   "outputs": [
    {
     "output_type": "stream",
     "name": "stdout",
     "text": [
      "1\n"
     ]
    }
   ],
   "source": [
    "def minsta(tal1, tal2):\n",
    "    if tal1 > tal2:\n",
    "        return tal2\n",
    "    else:\n",
    "        return tal1\n",
    "\n",
    "print(minsta(1,100000000))"
   ]
  },
  {
   "cell_type": "code",
   "execution_count": 22,
   "metadata": {},
   "outputs": [],
   "source": [
    "# uppgift 1 a)\n",
    "def artimetisk_summa(N, A1, An):\n",
    "    return (N*(A1+ An))/2\n"
   ]
  },
  {
   "cell_type": "code",
   "execution_count": 31,
   "metadata": {},
   "outputs": [
    {
     "output_type": "execute_result",
     "data": {
      "text/plain": [
       "5050.0"
      ]
     },
     "metadata": {},
     "execution_count": 31
    }
   ],
   "source": [
    "# uppgift 1 b)\n",
    "def artimetisk_summa(N, A1, An):\n",
    "    return (N*(A1+ An))/2\n",
    "\n",
    "artimetisk_summa(100,1,100)"
   ]
  },
  {
   "cell_type": "code",
   "execution_count": 45,
   "metadata": {},
   "outputs": [
    {
     "output_type": "execute_result",
     "data": {
      "text/plain": [
       "55.0"
      ]
     },
     "metadata": {},
     "execution_count": 45
    }
   ],
   "source": [
    "#uppgift 1 c)\n",
    "def artimetisk_summa(N, A1, An):\n",
    "    return (N*(A1+ An))/2\n",
    "\n",
    "A1 = float(input(\"Ange A1\"))\n",
    "N = float(input(\"Ange N\"))\n",
    "An = float(input(\"Ange An\"))\n",
    "\n",
    "artimetisk_summa(N,A1,An)"
   ]
  },
  {
   "cell_type": "code",
   "execution_count": 17,
   "metadata": {},
   "outputs": [
    {
     "output_type": "stream",
     "name": "stdout",
     "text": [
      "11\n"
     ]
    }
   ],
   "source": [
    "#uppgift 2 a) INTE Klar\n",
    "\n",
    "def f(n): \n",
    "    for i in range(1,n,2):\n",
    "        return (2*n+1)\n",
    "\n",
    "print(f(5))\n",
    "\n",
    "#def f(n):\n",
    "    #return (2*n + 1)\n",
    "#print(f(5))\n",
    "#tips till uppgift 2: #for i in range(start, slut-1, avstånd) \n",
    "#for i in range(1,n,2):"
   ]
  },
  {
   "cell_type": "code",
   "execution_count": 77,
   "metadata": {},
   "outputs": [
    {
     "output_type": "stream",
     "name": "stdout",
     "text": [
      "11.0\n"
     ]
    }
   ],
   "source": [
    "#uppgift 2 b) INTE Klar\n",
    "def f(n):\n",
    "    return (2*n + 1)\n",
    "\n",
    "n = float(input(\"ange startvärdet\"))\n",
    "\n",
    "print(f(n))"
   ]
  },
  {
   "cell_type": "code",
   "execution_count": 74,
   "metadata": {},
   "outputs": [
    {
     "output_type": "stream",
     "name": "stdout",
     "text": [
      "5.830951894845301\n"
     ]
    }
   ],
   "source": [
    "#uppgift 3 a)\n",
    "import math\n",
    "\n",
    "def kordinater(x ,y):\n",
    "   return x**2 + y**2\n",
    "\n",
    "print(math.sqrt(kordinater(5,3)))"
   ]
  },
  {
   "cell_type": "code",
   "execution_count": 76,
   "metadata": {},
   "outputs": [
    {
     "output_type": "stream",
     "name": "stdout",
     "text": [
      "5.830951894845301\n"
     ]
    }
   ],
   "source": [
    "#uppgift 3 b) och c)\n",
    "import math\n",
    "\n",
    "x = float(input(\"Ange x kordinatern\"))\n",
    "y = float(input(\"Ange y kordinatern\"))\n",
    "\n",
    "def kordinater(x ,y):\n",
    "   return x**2 + y**2\n",
    "\n",
    "\n",
    "print(math.sqrt(kordinater(x,y)))"
   ]
  },
  {
   "cell_type": "code",
   "execution_count": null,
   "metadata": {},
   "outputs": [],
   "source": [
    "#uppgift 4\n",
    "\n",
    "\n",
    "\n",
    "x = float(input(\"ange mängden pengar\")\n",
    "  \n"
   ]
  }
 ]
}